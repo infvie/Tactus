{
 "cells": [
  {
   "cell_type": "code",
   "execution_count": 1,
   "metadata": {},
   "outputs": [],
   "source": [
    "from gurobi import *"
   ]
  },
  {
   "cell_type": "code",
   "execution_count": 2,
   "metadata": {},
   "outputs": [],
   "source": [
    "rack_name, slots = multidict({\n",
    "    'alpha' : 48\n",
    "})"
   ]
  },
  {
   "cell_type": "code",
   "execution_count": 6,
   "metadata": {},
   "outputs": [],
   "source": [
    "chips, quantity, powerdraw, outlets_required, slots_required = multidict({\n",
    "    '1080' : [10, 45, 2, 1],\n",
    "    '2080' : [10, 55, 2, 2]\n",
    "})"
   ]
  },
  {
   "cell_type": "code",
   "execution_count": 4,
   "metadata": {},
   "outputs": [],
   "source": [
    "import Heterogenous"
   ]
  },
  {
   "cell_type": "code",
   "execution_count": 5,
   "metadata": {},
   "outputs": [
    {
     "name": "stdout",
     "output_type": "stream",
     "text": [
      "Academic license - for non-commercial use only\n",
      "Optimize a model with 7 rows, 9 columns and 25 nonzeros\n",
      "Variable types: 3 continuous, 6 integer (0 binary)\n",
      "Coefficient statistics:\n",
      "  Matrix range     [1e+00, 6e+01]\n",
      "  Objective range  [1e+00, 1e+00]\n",
      "  Bounds range     [0e+00, 0e+00]\n",
      "  RHS range        [1e+01, 1e+01]\n",
      "Presolve removed 2 rows and 2 columns\n",
      "Presolve time: 0.00s\n",
      "Presolved: 5 rows, 7 columns, 21 nonzeros\n",
      "Variable types: 0 continuous, 7 integer (0 binary)\n",
      "Found heuristic solution: objective 900.0000000\n",
      "Found heuristic solution: objective 450.0000000\n",
      "\n",
      "Root relaxation: objective 1.421085e-13, 4 iterations, 0.00 seconds\n",
      "\n",
      "    Nodes    |    Current Node    |     Objective Bounds      |     Work\n",
      " Expl Unexpl |  Obj  Depth IntInf | Incumbent    BestBd   Gap | It/Node Time\n",
      "\n",
      "     0     0    0.00000    0    5  450.00000    0.00000   100%     -    0s\n",
      "H    0     0                      60.0000000    0.00000   100%     -    0s\n",
      "H    0     0                      50.0000000    0.00000   100%     -    0s\n",
      "H    0     0                      40.0000000    0.00000   100%     -    0s\n",
      "     0     0    5.00000    0    3   40.00000    5.00000  87.5%     -    0s\n",
      "     0     0    5.00000    0    2   40.00000    5.00000  87.5%     -    0s\n",
      "H    0     0                       5.0000000    5.00000  0.00%     -    0s\n",
      "     0     0    5.00000    0    5    5.00000    5.00000  0.00%     -    0s\n",
      "\n",
      "Cutting planes:\n",
      "  Gomory: 2\n",
      "  MIR: 2\n",
      "  StrongCG: 1\n",
      "\n",
      "Explored 1 nodes (14 simplex iterations) in 0.04 seconds\n",
      "Thread count was 8 (of 8 available processors)\n",
      "\n",
      "Solution count 6: 5 40 50 ... 900\n",
      "\n",
      "Optimal solution found (tolerance 1.00e-04)\n",
      "Best objective 5.000000000000e+00, best bound 5.000000000000e+00, gap 0.0000%\n",
      "Put 0.0 1080 in orientation 0\n",
      "Put 5.0 1080 in orientation 1\n",
      "Put 5.0 1080 in orientation 2\n",
      "Put 6.0 2080 in orientation 0\n",
      "Put 2.0 2080 in orientation 1\n",
      "Put 2.0 2080 in orientation 2\n"
     ]
    }
   ],
   "source": [
    "Heterogenous.solve(rack_name, slots,chips, quantity, powerdraw, outlets_required)"
   ]
  },
  {
   "cell_type": "code",
   "execution_count": null,
   "metadata": {},
   "outputs": [],
   "source": []
  }
 ],
 "metadata": {
  "kernelspec": {
   "display_name": "Python 3",
   "language": "python",
   "name": "python3"
  },
  "language_info": {
   "codemirror_mode": {
    "name": "ipython",
    "version": 3
   },
   "file_extension": ".py",
   "mimetype": "text/x-python",
   "name": "python",
   "nbconvert_exporter": "python",
   "pygments_lexer": "ipython3",
   "version": "3.7.3"
  }
 },
 "nbformat": 4,
 "nbformat_minor": 2
}
