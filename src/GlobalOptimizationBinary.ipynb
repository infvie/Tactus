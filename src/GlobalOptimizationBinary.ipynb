{
 "cells": [
  {
   "cell_type": "markdown",
   "metadata": {},
   "source": [
    "# Tactus"
   ]
  },
  {
   "cell_type": "code",
   "execution_count": 2,
   "metadata": {},
   "outputs": [],
   "source": [
    "from gurobipy import *"
   ]
  },
  {
   "cell_type": "code",
   "execution_count": 3,
   "metadata": {},
   "outputs": [
    {
     "name": "stdout",
     "output_type": "stream",
     "text": [
      "Academic license - for non-commercial use only\n"
     ]
    }
   ],
   "source": [
    "m = Model('Tactus')"
   ]
  },
  {
   "cell_type": "markdown",
   "metadata": {},
   "source": [
    "### Data"
   ]
  },
  {
   "cell_type": "code",
   "execution_count": 4,
   "metadata": {},
   "outputs": [],
   "source": [
    "rack_name, slots = multidict({\n",
    "    'alpha' : 48,\n",
    "    'beta' : 48\n",
    "})"
   ]
  },
  {
   "cell_type": "code",
   "execution_count": 5,
   "metadata": {},
   "outputs": [],
   "source": [
    "slots = range(1,49)"
   ]
  },
  {
   "cell_type": "code",
   "execution_count": 6,
   "metadata": {},
   "outputs": [],
   "source": [
    "phases = [1,2,3]"
   ]
  },
  {
   "cell_type": "code",
   "execution_count": 7,
   "metadata": {},
   "outputs": [],
   "source": [
    "chips, quantity, powerdraw, slots_required = multidict({\n",
    "    '1080' : [10, 145, 1],\n",
    "    '2080' : [10, 155, 1],\n",
    "    '3080' : [10, 255, 1]\n",
    "})"
   ]
  },
  {
   "cell_type": "code",
   "execution_count": 8,
   "metadata": {},
   "outputs": [],
   "source": [
    "theta = ['L1-L2','L2-L3','L3-L1']"
   ]
  },
  {
   "cell_type": "markdown",
   "metadata": {},
   "source": [
    "### Vars"
   ]
  },
  {
   "cell_type": "code",
   "execution_count": 9,
   "metadata": {},
   "outputs": [],
   "source": [
    "L  = m.addVars(rack_name,phases,name='phases')"
   ]
  },
  {
   "cell_type": "code",
   "execution_count": 10,
   "metadata": {},
   "outputs": [],
   "source": [
    "x = m.addVars(chips,theta,rack_name,slots,vtype=GRB.BINARY,name='placement')"
   ]
  },
  {
   "cell_type": "code",
   "execution_count": 11,
   "metadata": {},
   "outputs": [],
   "source": [
    "u = m.addVars(chips,theta,rack_name,vtype=GRB.BINARY,name='singleassignment')"
   ]
  },
  {
   "cell_type": "markdown",
   "metadata": {},
   "source": [
    "### Objective Function"
   ]
  },
  {
   "cell_type": "code",
   "execution_count": 12,
   "metadata": {},
   "outputs": [],
   "source": [
    "m.setObjective(quicksum(L[rack,1]-L[rack,3] for rack in rack_name),GRB.MINIMIZE)"
   ]
  },
  {
   "cell_type": "markdown",
   "metadata": {},
   "source": [
    "### Constraints"
   ]
  },
  {
   "cell_type": "markdown",
   "metadata": {},
   "source": [
    "Every chip needs to be assigned a location."
   ]
  },
  {
   "cell_type": "code",
   "execution_count": 13,
   "metadata": {},
   "outputs": [],
   "source": [
    "m.addConstrs(x.sum(chip,'*','*','*') == quantity[chip] for chip in chips);"
   ]
  },
  {
   "cell_type": "markdown",
   "metadata": {},
   "source": [
    "Every location could only be assigned one chip."
   ]
  },
  {
   "cell_type": "code",
   "execution_count": 15,
   "metadata": {},
   "outputs": [],
   "source": [
    "m.addConstrs(x.sum('*','*','*',slot) <= 1 for slot in slots);"
   ]
  },
  {
   "cell_type": "markdown",
   "metadata": {},
   "source": [
    "The orientation of the chips is determined by the slots i.e. 1-16 $\\rightarrow$ L3-L1, 17-32 $\\rightarrow$ L2-L3, 33-48 $\\rightarrow$ L1-L2."
   ]
  },
  {
   "cell_type": "code",
   "execution_count": 17,
   "metadata": {},
   "outputs": [],
   "source": [
    "m.addConstr(x.sum('*',['L1-L2','L2-L3'],'*',range(1,17)) == 0);\n",
    "m.addConstr(x.sum('*',['L1-L2','L3-L1'],'*',range(17,33)) == 0);\n",
    "m.addConstr(x.sum('*',['L2-L3','L3-L1'],'*',range(33,49)) == 0);"
   ]
  },
  {
   "cell_type": "markdown",
   "metadata": {},
   "source": [
    "Add constraint that opposes spread i.e. prefers all chips be in a same rack with the same orientation."
   ]
  },
  {
   "cell_type": "code",
   "execution_count": 14,
   "metadata": {},
   "outputs": [],
   "source": [
    "m.addConstrs(u.sum(chip,'*','*') <= 1 for chip in chips) # chips can only belong to one orientation/rack\n",
    "m.addConstrs(x.sum(chip,orientation,rack,'*') <= quantity[chip]*u.select(chip,orientation,rack) for rack in rack_name for orientation in theta);"
   ]
  },
  {
   "cell_type": "markdown",
   "metadata": {},
   "source": [
    "Calculate the load in each phase."
   ]
  },
  {
   "cell_type": "code",
   "execution_count": 15,
   "metadata": {},
   "outputs": [],
   "source": [
    "for rack in rack_name:\n",
    "    m.addConstr(quicksum(powerdraw[chip]*x.sum(chip,['L1-L2','L3-L1'],rack) for chip in chips) == L[rack,1]); # L1\n",
    "    m.addConstr(quicksum(powerdraw[chip]*x.sum(chip,['L1-L2','L2-L3'],rack) for chip in chips) == L[rack,2]); # L2\n",
    "    m.addConstr(quicksum(powerdraw[chip]*x.sum(chip,['L2-L3','L3-L1'],rack) for chip in chips) == L[rack,3]); # L3"
   ]
  },
  {
   "cell_type": "markdown",
   "metadata": {},
   "source": [
    "Perfer racks at the top vs the bottom.*\n",
    "###### * Provides a better way to express the objective function"
   ]
  },
  {
   "cell_type": "code",
   "execution_count": 16,
   "metadata": {},
   "outputs": [],
   "source": [
    "m.addConstrs(L[rack,1]>=L[rack,2] for rack in rack_name);\n",
    "m.addConstrs(L[rack,2]>=L[rack,3] for rack in rack_name);"
   ]
  },
  {
   "cell_type": "markdown",
   "metadata": {},
   "source": [
    "### Run Model"
   ]
  },
  {
   "cell_type": "code",
   "execution_count": 17,
   "metadata": {},
   "outputs": [
    {
     "name": "stdout",
     "output_type": "stream",
     "text": [
      "Optimize a model with 34 rows, 136 columns and 122 nonzeros\n",
      "Variable types: 100 continuous, 36 integer (18 binary)\n",
      "Coefficient statistics:\n",
      "  Matrix range     [1e-01, 3e+02]\n",
      "  Objective range  [1e+00, 1e+00]\n",
      "  Bounds range     [1e+00, 1e+00]\n",
      "  RHS range        [1e+00, 1e+01]\n",
      "Presolve removed 25 rows and 116 columns\n",
      "Presolve time: 0.00s\n",
      "Presolved: 9 rows, 20 columns, 60 nonzeros\n",
      "Variable types: 0 continuous, 20 integer (18 binary)\n",
      "Found heuristic solution: objective 4000.0000000\n",
      "\n",
      "Root relaxation: objective 4.547474e-13, 10 iterations, 0.00 seconds\n",
      "\n",
      "    Nodes    |    Current Node    |     Objective Bounds      |     Work\n",
      " Expl Unexpl |  Obj  Depth IntInf | Incumbent    BestBd   Gap | It/Node Time\n",
      "\n",
      "     0     0    0.00000    0    6 4000.00000    0.00000   100%     -    0s\n",
      "H    0     0                    3000.0000000    0.00000   100%     -    0s\n",
      "H    0     0                    1100.0000000    0.00000   100%     -    0s\n",
      "     0     0    0.00000    0    8 1100.00000    0.00000   100%     -    0s\n",
      "     0     0   93.74983    0   10 1100.00000   93.74983  91.5%     -    0s\n",
      "     0     0  408.88490    0   11 1100.00000  408.88490  62.8%     -    0s\n",
      "     0     0  408.88490    0    8 1100.00000  408.88490  62.8%     -    0s\n",
      "     0     0  639.94999    0   13 1100.00000  639.94999  41.8%     -    0s\n",
      "     0     0  687.79081    0   13 1100.00000  687.79081  37.5%     -    0s\n",
      "     0     0  694.22372    0   13 1100.00000  694.22372  36.9%     -    0s\n",
      "     0     0  726.36781    0   14 1100.00000  726.36781  34.0%     -    0s\n",
      "     0     0  754.66709    0   15 1100.00000  754.66709  31.4%     -    0s\n",
      "     0     0  776.53584    0   17 1100.00000  776.53584  29.4%     -    0s\n",
      "     0     0     cutoff    0      1100.00000 1100.00000  0.00%     -    0s\n",
      "\n",
      "Cutting planes:\n",
      "  Gomory: 3\n",
      "  Clique: 1\n",
      "  MIR: 5\n",
      "  GUB cover: 7\n",
      "\n",
      "Explored 1 nodes (85 simplex iterations) in 0.05 seconds\n",
      "Thread count was 8 (of 8 available processors)\n",
      "\n",
      "Solution count 3: 1100 3000 4000 \n",
      "\n",
      "Optimal solution found (tolerance 1.00e-04)\n",
      "Best objective 1.100000000000e+03, best bound 1.100000000000e+03, gap 0.0000%\n"
     ]
    }
   ],
   "source": [
    "m.optimize()"
   ]
  },
  {
   "cell_type": "code",
   "execution_count": 18,
   "metadata": {},
   "outputs": [
    {
     "name": "stdout",
     "output_type": "stream",
     "text": [
      "('1080', 'L2-L3', 'beta') 10.0\n",
      "('2080', 'L3-L1', 'beta') 10.0\n",
      "('3080', 'L1-L2', 'beta') 10.0\n"
     ]
    }
   ],
   "source": [
    "for key in x.keys():\n",
    "    if x[key].X > 0:\n",
    "        print(f'{key} {x[key].X}')"
   ]
  },
  {
   "cell_type": "markdown",
   "metadata": {},
   "source": [
    "### Visualizing Results"
   ]
  },
  {
   "cell_type": "code",
   "execution_count": 19,
   "metadata": {},
   "outputs": [],
   "source": [
    "import matplotlib.pyplot as plt\n",
    "import pandas as pd\n",
    "import seaborn as sns"
   ]
  },
  {
   "cell_type": "code",
   "execution_count": 20,
   "metadata": {},
   "outputs": [],
   "source": [
    "rack = [rack for rack, phase in L.keys()]\n",
    "phase = [phase for rack, phase in L.keys()]\n",
    "load = [L[var].X for var in L]\n",
    "data = {'Rack':rack,'Phase':phase,'Load':load}"
   ]
  },
  {
   "cell_type": "code",
   "execution_count": 21,
   "metadata": {},
   "outputs": [],
   "source": [
    "df = pd.DataFrame(data)"
   ]
  },
  {
   "cell_type": "code",
   "execution_count": 22,
   "metadata": {},
   "outputs": [
    {
     "data": {
      "text/html": [
       "<div>\n",
       "<style scoped>\n",
       "    .dataframe tbody tr th:only-of-type {\n",
       "        vertical-align: middle;\n",
       "    }\n",
       "\n",
       "    .dataframe tbody tr th {\n",
       "        vertical-align: top;\n",
       "    }\n",
       "\n",
       "    .dataframe thead th {\n",
       "        text-align: right;\n",
       "    }\n",
       "</style>\n",
       "<table border=\"1\" class=\"dataframe\">\n",
       "  <thead>\n",
       "    <tr style=\"text-align: right;\">\n",
       "      <th></th>\n",
       "      <th>Rack</th>\n",
       "      <th>Phase</th>\n",
       "      <th>Load</th>\n",
       "    </tr>\n",
       "  </thead>\n",
       "  <tbody>\n",
       "    <tr>\n",
       "      <th>0</th>\n",
       "      <td>alpha</td>\n",
       "      <td>1</td>\n",
       "      <td>0.0</td>\n",
       "    </tr>\n",
       "    <tr>\n",
       "      <th>1</th>\n",
       "      <td>alpha</td>\n",
       "      <td>2</td>\n",
       "      <td>0.0</td>\n",
       "    </tr>\n",
       "    <tr>\n",
       "      <th>2</th>\n",
       "      <td>alpha</td>\n",
       "      <td>3</td>\n",
       "      <td>0.0</td>\n",
       "    </tr>\n",
       "    <tr>\n",
       "      <th>3</th>\n",
       "      <td>beta</td>\n",
       "      <td>1</td>\n",
       "      <td>4100.0</td>\n",
       "    </tr>\n",
       "    <tr>\n",
       "      <th>4</th>\n",
       "      <td>beta</td>\n",
       "      <td>2</td>\n",
       "      <td>4000.0</td>\n",
       "    </tr>\n",
       "    <tr>\n",
       "      <th>5</th>\n",
       "      <td>beta</td>\n",
       "      <td>3</td>\n",
       "      <td>3000.0</td>\n",
       "    </tr>\n",
       "  </tbody>\n",
       "</table>\n",
       "</div>"
      ],
      "text/plain": [
       "    Rack  Phase    Load\n",
       "0  alpha      1     0.0\n",
       "1  alpha      2     0.0\n",
       "2  alpha      3     0.0\n",
       "3   beta      1  4100.0\n",
       "4   beta      2  4000.0\n",
       "5   beta      3  3000.0"
      ]
     },
     "execution_count": 22,
     "metadata": {},
     "output_type": "execute_result"
    }
   ],
   "source": [
    "df"
   ]
  },
  {
   "cell_type": "code",
   "execution_count": 23,
   "metadata": {},
   "outputs": [
    {
     "data": {
      "image/png": "[encoded data removed]",
      "text/plain": [
       "<Figure size 432x288 with 1 Axes>"
      ]
     },
     "metadata": {
      "needs_background": "light"
     },
     "output_type": "display_data"
    }
   ],
   "source": [
    "sns.barplot(x='Rack',y='Load',hue='Phase',data=data,palette='Blues')\n",
    "plt.title('Loads Across Phase')\n",
    "plt.xlabel('Rack')\n",
    "plt.ylabel('Power Consumption (W)')\n",
    "plt.show()"
   ]
  },
  {
   "cell_type": "code",
   "execution_count": 24,
   "metadata": {},
   "outputs": [],
   "source": [
    "grouped = df.groupby('Rack')\n",
    "diff = grouped['Load'].max() - grouped['Load'].min()"
   ]
  },
  {
   "cell_type": "code",
   "execution_count": 25,
   "metadata": {},
   "outputs": [
    {
     "data": {
      "image/png": "[encoded data removed]",
      "text/plain": [
       "<Figure size 432x288 with 1 Axes>"
      ]
     },
     "metadata": {
      "needs_background": "light"
     },
     "output_type": "display_data"
    }
   ],
   "source": [
    "sns.barplot(x=diff.index,y=diff.values)\n",
    "plt.title('Largest Phase Difference')\n",
    "plt.ylabel('Power Difference (W)')\n",
    "plt.show()"
   ]
  }
 ],
 "metadata": {
  "kernelspec": {
   "display_name": "Python 3",
   "language": "python",
   "name": "python3"
  },
  "language_info": {
   "codemirror_mode": {
    "name": "ipython",
    "version": 3
   },
   "file_extension": ".py",
   "mimetype": "text/x-python",
   "name": "python",
   "nbconvert_exporter": "python",
   "pygments_lexer": "ipython3",
   "version": "3.7.3"
  }
 },
 "nbformat": 4,
 "nbformat_minor": 2
}
