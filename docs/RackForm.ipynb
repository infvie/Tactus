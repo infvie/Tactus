{
 "cells": [
  {
   "cell_type": "code",
   "execution_count": 1,
   "metadata": {},
   "outputs": [],
   "source": [
    "from gurobipy import *"
   ]
  },
  {
   "cell_type": "markdown",
   "metadata": {},
   "source": [
    "This is the optimization for a rack by rack basis in the system. "
   ]
  },
  {
   "cell_type": "code",
   "execution_count": 2,
   "metadata": {},
   "outputs": [
    {
     "name": "stdout",
     "output_type": "stream",
     "text": [
      "Academic license - for non-commercial use only\n"
     ]
    }
   ],
   "source": [
    "m = Model();"
   ]
  },
  {
   "cell_type": "markdown",
   "metadata": {},
   "source": [
    "The decision varible is $x_{ijr}$ which is the number of chips where $i$ is the specific chip type, the $j$ is the orientation, and $r$ is the rack where the chip is assigned."
   ]
  },
  {
   "cell_type": "code",
   "execution_count": 3,
   "metadata": {},
   "outputs": [],
   "source": [
    "chips, powerdraw, quantity = multidict({\n",
    "    '1080':[150,10],\n",
    "    '2080':[180,10]\n",
    "})"
   ]
  },
  {
   "cell_type": "code",
   "execution_count": 4,
   "metadata": {},
   "outputs": [],
   "source": [
    "racks , slots = multidict({\n",
    "    'alpha':48,\n",
    "    'beta':48\n",
    "})"
   ]
  },
  {
   "cell_type": "markdown",
   "metadata": {},
   "source": [
    "The orientations are as follows: \n",
    "$$j_1\\rightarrow(L1,L2)$$\n",
    "$$j_2\\rightarrow(L2,L3)$$\n",
    "$$j_3\\rightarrow(L1,L3)$$\n",
    "$$s.t.$$\n",
    "$$\\theta = \\{j_1,j_2,j_3\\}$$"
   ]
  },
  {
   "cell_type": "code",
   "execution_count": 5,
   "metadata": {},
   "outputs": [],
   "source": [
    "i = ['1080','2080']"
   ]
  },
  {
   "cell_type": "code",
   "execution_count": 6,
   "metadata": {},
   "outputs": [],
   "source": [
    "j = [0,1,2]"
   ]
  },
  {
   "cell_type": "code",
   "execution_count": 7,
   "metadata": {},
   "outputs": [],
   "source": [
    "r = ['alpha']"
   ]
  },
  {
   "cell_type": "code",
   "execution_count": 8,
   "metadata": {},
   "outputs": [],
   "source": [
    "x = m.addVars(i,j,r,vtype=GRB.INTEGER)"
   ]
  },
  {
   "cell_type": "code",
   "execution_count": 9,
   "metadata": {},
   "outputs": [
    {
     "data": {
      "text/plain": [
       "{('1080', 0, 'alpha'): <gurobi.Var C0>,\n",
       " ('1080', 1, 'alpha'): <gurobi.Var C1>,\n",
       " ('1080', 2, 'alpha'): <gurobi.Var C2>,\n",
       " ('2080', 0, 'alpha'): <gurobi.Var C3>,\n",
       " ('2080', 1, 'alpha'): <gurobi.Var C4>,\n",
       " ('2080', 2, 'alpha'): <gurobi.Var C5>}"
      ]
     },
     "execution_count": 9,
     "metadata": {},
     "output_type": "execute_result"
    }
   ],
   "source": [
    "x"
   ]
  },
  {
   "cell_type": "code",
   "execution_count": 10,
   "metadata": {},
   "outputs": [
    {
     "data": {
      "text/plain": [
       "{'1080': <gurobi.Constr *Awaiting Model Update*>,\n",
       " '2080': <gurobi.Constr *Awaiting Model Update*>}"
      ]
     },
     "execution_count": 10,
     "metadata": {},
     "output_type": "execute_result"
    }
   ],
   "source": [
    "# make sure all the chips have somewhere to go\n",
    "m.addConstrs(x.sum(chip,'*','*') == quantity[chip] for chip in chips)"
   ]
  },
  {
   "cell_type": "code",
   "execution_count": 11,
   "metadata": {},
   "outputs": [],
   "source": [
    "L = m.addVars(racks,range(3))"
   ]
  },
  {
   "cell_type": "code",
   "execution_count": 12,
   "metadata": {},
   "outputs": [
    {
     "data": {
      "text/plain": [
       "{('alpha', 0): <gurobi.Var *Awaiting Model Update*>,\n",
       " ('alpha', 1): <gurobi.Var *Awaiting Model Update*>,\n",
       " ('alpha', 2): <gurobi.Var *Awaiting Model Update*>,\n",
       " ('beta', 0): <gurobi.Var *Awaiting Model Update*>,\n",
       " ('beta', 1): <gurobi.Var *Awaiting Model Update*>,\n",
       " ('beta', 2): <gurobi.Var *Awaiting Model Update*>}"
      ]
     },
     "execution_count": 12,
     "metadata": {},
     "output_type": "execute_result"
    }
   ],
   "source": [
    "L"
   ]
  },
  {
   "cell_type": "code",
   "execution_count": 13,
   "metadata": {},
   "outputs": [
    {
     "data": {
      "text/plain": [
       "{'alpha': <gurobi.Constr *Awaiting Model Update*>,\n",
       " 'beta': <gurobi.Constr *Awaiting Model Update*>}"
      ]
     },
     "execution_count": 13,
     "metadata": {},
     "output_type": "execute_result"
    }
   ],
   "source": [
    "# we want to perfer l1-l2, l2-l3, l1-l3 in that order\n",
    "# easier to work with the top of the rack\n",
    "m.addConstrs(L[rack,0]>=L[rack,1] for rack in racks)\n",
    "m.addConstrs(L[rack,1]>=L[rack,2] for rack in racks)"
   ]
  },
  {
   "cell_type": "code",
   "execution_count": 14,
   "metadata": {},
   "outputs": [],
   "source": [
    "# the max diff in a rack\n",
    "w = m.addVars(r) "
   ]
  },
  {
   "cell_type": "code",
   "execution_count": 16,
   "metadata": {},
   "outputs": [
    {
     "data": {
      "text/plain": [
       "<gurobi.Constr *Awaiting Model Update*>"
      ]
     },
     "execution_count": 16,
     "metadata": {},
     "output_type": "execute_result"
    }
   ],
   "source": [
    "# calc the actual diff in a rack\n",
    "m.addConstr(L['alpha',2]-L['alpha',0] == w['alpha'])"
   ]
  },
  {
   "cell_type": "code",
   "execution_count": 21,
   "metadata": {},
   "outputs": [
    {
     "data": {
      "text/plain": [
       "<gurobi.Constr *Awaiting Model Update*>"
      ]
     },
     "execution_count": 21,
     "metadata": {},
     "output_type": "execute_result"
    }
   ],
   "source": [
    "m.addConstr(L['alpha',2]>=L['alpha',1])\n",
    "m.addConstr(L['alpha',1]>=L['alpha',0])"
   ]
  },
  {
   "cell_type": "code",
   "execution_count": 22,
   "metadata": {},
   "outputs": [
    {
     "ename": "NameError",
     "evalue": "name 'rack' is not defined",
     "output_type": "error",
     "traceback": [
      "\u001b[0;31m---------------------------------------------------------------------------\u001b[0m",
      "\u001b[0;31mNameError\u001b[0m                                 Traceback (most recent call last)",
      "\u001b[0;32m<ipython-input-22-41e2c4a583cc>\u001b[0m in \u001b[0;36m<module>\u001b[0;34m\u001b[0m\n\u001b[0;32m----> 1\u001b[0;31m \u001b[0mm\u001b[0m\u001b[0;34m.\u001b[0m\u001b[0msetObjective\u001b[0m\u001b[0;34m(\u001b[0m\u001b[0mquicksum\u001b[0m\u001b[0;34m(\u001b[0m\u001b[0mw\u001b[0m\u001b[0;34m[\u001b[0m\u001b[0mrack\u001b[0m\u001b[0;34m]\u001b[0m\u001b[0;34m)\u001b[0m\u001b[0;34m)\u001b[0m\u001b[0;34m\u001b[0m\u001b[0;34m\u001b[0m\u001b[0m\n\u001b[0m",
      "\u001b[0;31mNameError\u001b[0m: name 'rack' is not defined"
     ]
    }
   ],
   "source": [
    "m.setObjective(quicksum(w[r))"
   ]
  },
  {
   "cell_type": "code",
   "execution_count": 19,
   "metadata": {},
   "outputs": [
    {
     "data": {
      "text/plain": [
       "<gurobi.Constr *Awaiting Model Update*>"
      ]
     },
     "execution_count": 19,
     "metadata": {},
     "output_type": "execute_result"
    }
   ],
   "source": [
    "m.addConstr(quicksum(powerdraw[chip]*x[chip,0,'alpha'] for chip in chips) + quicksum(powerdraw[chip]*x[chip,2,'alpha'] for chip in chips)  == L['alpha',0])\n",
    "m.addConstr(quicksum(powerdraw[chip]*x[chip,0,'alpha'] for chip in chips) + quicksum(powerdraw[chip]*x[chip,1,'alpha'] for chip in chips)  == L['alpha',1])\n",
    "m.addConstr(quicksum(powerdraw[chip]*x[chip,1,'alpha'] for chip in chips) + quicksum(powerdraw[chip]*x[chip,2,'alpha'] for chip in chips)  == L['alpha',2])"
   ]
  },
  {
   "cell_type": "code",
   "execution_count": null,
   "metadata": {},
   "outputs": [],
   "source": [
    "m.optimize()"
   ]
  },
  {
   "cell_type": "code",
   "execution_count": null,
   "metadata": {},
   "outputs": [],
   "source": [
    "x"
   ]
  },
  {
   "cell_type": "code",
   "execution_count": null,
   "metadata": {},
   "outputs": [],
   "source": []
  }
 ],
 "metadata": {
  "kernelspec": {
   "display_name": "Python 3",
   "language": "python",
   "name": "python3"
  },
  "language_info": {
   "codemirror_mode": {
    "name": "ipython",
    "version": 3
   },
   "file_extension": ".py",
   "mimetype": "text/x-python",
   "name": "python",
   "nbconvert_exporter": "python",
   "pygments_lexer": "ipython3",
   "version": "3.7.3"
  }
 },
 "nbformat": 4,
 "nbformat_minor": 2
}
