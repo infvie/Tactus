{
 "cells": [
  {
   "cell_type": "markdown",
   "metadata": {},
   "source": [
    "# Binary Formulation"
   ]
  },
  {
   "cell_type": "markdown",
   "metadata": {},
   "source": [
    "### Problem Statement"
   ]
  },
  {
   "cell_type": "markdown",
   "metadata": {},
   "source": [
    "Most computing clusters are homogenous in the sense that they are composed of chipsets that are uniform in power draw. This unifomity makes it easy to load balance along the leads in a PDU. The load balancing amongst heterogenous clusters quickly becomes non-trivial and leads to safety issues. In this formulation, we construct a generalized solution to this load balancing problem using mixed integer programming. Compared to the other formulation this solution is computationally more expensive, but more expressive."
   ]
  },
  {
   "cell_type": "markdown",
   "metadata": {},
   "source": [
    "Allow for $i$ to represent the set of all the power phases, $j$ to represent the different chipsets present, $k$ to be the orientation, and $l$ to represent the slot where a chip is located\n",
    "\n",
    "\n",
    "<center>$L$ the amount of power flow through a lead<center> \n",
    "<center>$x_{j,k,l} \\forall  j,k,l \\in \\mathfrak{D}$ binary variable that represents if a chip is in a location <center>\n",
    "<center>$P_{j}$ is the amount of powerdraw from chipset $j$</center>"
   ]
  },
  {
   "cell_type": "markdown",
   "metadata": {},
   "source": [
    "### Objective Function"
   ]
  },
  {
   "cell_type": "markdown",
   "metadata": {},
   "source": [
    "We would like to minimize the largest difference between $L$, the power phases,\n",
    "\n",
    "$$ \\mathbf{min} \\quad Max(L) - Min(L) \\quad \\forall \\ i,j\\in S$$ "
   ]
  },
  {
   "cell_type": "markdown",
   "metadata": {},
   "source": [
    "### Constraints"
   ]
  },
  {
   "cell_type": "markdown",
   "metadata": {},
   "source": [
    "There is a single constraint for our problem which is the the effect of the orientation on the total lead value which can be expressed as:\n",
    "\n",
    "<center>$P\\theta x = L$</center>\n",
    "\n",
    "where $P$ is a constant that represents the power draw from a single chipset\n",
    "\n",
    "$x$ is our set of decision varibles in matrix form\n",
    "\n",
    "$\\theta$ is a matrix representing the possible orientations e.g \n",
    "\n",
    "$$\n",
    "\\begin{vmatrix}\n",
    "1 & 1 & 0 \\\\ \n",
    "1 & 0 & 1 \\\\\n",
    "0 & 1 & 1 \n",
    "\\end{vmatrix}\n",
    "$$"
   ]
  },
  {
   "cell_type": "markdown",
   "metadata": {},
   "source": [
    "Equivalently, we can express this as \n",
    "<center>$$\\sum_{j,l=1}^{n,s} P_{j}\\theta_k x_{jkl} = L_i \\quad \\forall \\ i \\in \\{1,2,3\\}$$</center>"
   ]
  },
  {
   "cell_type": "markdown",
   "metadata": {},
   "source": [
    "We need to ensure that each chip has exactly one location with only assignment, and that every location only has one chip assinged to it.\n",
    "\n",
    "<center>$$\\sum_{\\mathfrak{D}} x_{jkl} = 1 \\quad \\forall \\ j$$</center>"
   ]
  },
  {
   "cell_type": "markdown",
   "metadata": {},
   "source": [
    "<center>$$\\sum_{\\mathfrak{D}} x_{jkl} = 1 \\quad \\forall \\ l$$</center>"
   ]
  }
 ],
 "metadata": {
  "kernelspec": {
   "display_name": "Python 3",
   "language": "python",
   "name": "python3"
  },
  "language_info": {
   "codemirror_mode": {
    "name": "ipython",
    "version": 3
   },
   "file_extension": ".py",
   "mimetype": "text/x-python",
   "name": "python",
   "nbconvert_exporter": "python",
   "pygments_lexer": "ipython3",
   "version": "3.7.3"
  }
 },
 "nbformat": 4,
 "nbformat_minor": 2
}
