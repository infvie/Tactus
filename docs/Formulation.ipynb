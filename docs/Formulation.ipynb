{
 "cells": [
  {
   "cell_type": "markdown",
   "metadata": {},
   "source": [
    "# Formulation"
   ]
  },
  {
   "cell_type": "markdown",
   "metadata": {},
   "source": [
    "### Problem Statement"
   ]
  },
  {
   "cell_type": "markdown",
   "metadata": {},
   "source": [
    "Most computing clusters are homogenous in the sense that they are composed of chipsets that are uniform in power draw. This unifomity makes it easy to load balance along the leads in a PDU. The load balancing amongst heterogenous clusters quickly becomes non-trivial and leads to safety issues. In this formulation, we construct a generalized solution to this load balancing problem using mixed integer programming."
   ]
  },
  {
   "cell_type": "markdown",
   "metadata": {},
   "source": [
    "### Homogenous Chipset Formulation"
   ]
  },
  {
   "cell_type": "markdown",
   "metadata": {},
   "source": [
    "We will begin by solving the easiest form of this problem and gradually increasing the difficulty and the complexity of the problem. We begin with with a single rack with 15 slots for uniform chipsets."
   ]
  },
  {
   "cell_type": "markdown",
   "metadata": {},
   "source": [
    "### Variables"
   ]
  },
  {
   "cell_type": "markdown",
   "metadata": {},
   "source": [
    "<center>$L_i  \\quad \\forall i \\in \\{1...n\\}$ the amount of power flow through a lead<center> \n",
    "<center>$x_j \\quad \\forall j \\in \\{1...m\\}$ the number of chipsets in a specific orientation *<center>"
   ]
  },
  {
   "cell_type": "markdown",
   "metadata": {},
   "source": [
    "###### * the set of orientations is finite $ \\{ (1,2),(1,3),(2,3)\\} $ and independent of ranking or order"
   ]
  },
  {
   "cell_type": "markdown",
   "metadata": {},
   "source": [
    "### Objective Function"
   ]
  },
  {
   "cell_type": "markdown",
   "metadata": {},
   "source": [
    "There are several opitons for an objective function for this problem:\n",
    "\n",
    "1) minimizing the largest power difference between the set of leads \n",
    "\n",
    "$$ \\mathbf{min} \\quad Max(L_{i}-L_{j}) \\quad \\forall i,j\\in S$$ \n",
    "\n",
    "2) minimize the total power difference between all the leads \n",
    "\n",
    "$$ \\mathbf{min} \\quad \\sum_{i,j \\in S}{|L_{i}-L_{j}|} $$"
   ]
  },
  {
   "cell_type": "markdown",
   "metadata": {},
   "source": [
    "Both of these objectives have trade-offs, 1) might lead to a solution where the overall powerflow through the system may be suboptimal and 2) has the issue of leading to a solution where one pair of leads has a huge difference to allow for the other pairs to have the smallest possible gap."
   ]
  },
  {
   "cell_type": "markdown",
   "metadata": {},
   "source": [
    "### Constraints"
   ]
  },
  {
   "cell_type": "markdown",
   "metadata": {},
   "source": [
    "There is a single constraint for our problem which is the the effect of the orientation on the total lead value which can be expressed as:\n",
    "\n",
    "<center>$P\\theta x = L$</center>\n",
    "\n",
    "where $P$ is a constant that represents the power draw from a single chipset\n",
    "\n",
    "$x$ is our set of decision varibles in matrix form\n",
    "\n",
    "$\\theta$ is a matrix representing the possible orientations e.g \n",
    "\n",
    "$$\n",
    "\\begin{vmatrix}\n",
    "1 & 1 & 0 \\\\ \n",
    "1 & 0 & 1 \\\\\n",
    "0 & 1 & 1 \n",
    "\\end{vmatrix}\n",
    "$$"
   ]
  },
  {
   "cell_type": "markdown",
   "metadata": {},
   "source": [
    "##### * Note that this case is a special form of this problem where it is possible for us to solve this problem as a *__purely__* You linear system and not integer"
   ]
  },
  {
   "cell_type": "markdown",
   "metadata": {},
   "source": [
    "### Heterogeneous "
   ]
  },
  {
   "cell_type": "markdown",
   "metadata": {},
   "source": [
    "An extention of this problem is the hetergenous chip set where the power draw from different chips replaces the scaler $P$ term with a new $\\vec{P} \\quad \\mathbf{s.t.} \\quad p_i \\in \\vec{P}$  represents the individual powerdraw for each chip."
   ]
  },
  {
   "cell_type": "markdown",
   "metadata": {},
   "source": [
    "We will also replace the $x$ term in our formulation with a new term $x_{ij}$ where the $i$ represents a specific chipset and $j$ is the orientation matrix for that chip set which is a finite set of $\\vec{\\theta}$ depending how many outlets that specific group requires. "
   ]
  },
  {
   "cell_type": "markdown",
   "metadata": {},
   "source": [
    "More specifically to this changes \n",
    "\n",
    "<center>$P_{i}\\theta_{m}x_{ij} = L \\quad \\forall \\ i \\in \\{1...n\\}$</center>"
   ]
  },
  {
   "cell_type": "markdown",
   "metadata": {},
   "source": [
    "###### * The current formulation was done intentionally to avoid using a full binary solution. The reason for this even though the problem is small it wouldn't make sense to take a set of equal elements and uncessarily increase the problem to an $nm-dim$"
   ]
  },
  {
   "cell_type": "markdown",
   "metadata": {},
   "source": [
    "### Rack Position "
   ]
  },
  {
   "cell_type": "markdown",
   "metadata": {},
   "source": [
    "We also need to consider the actual placement of the chipsets within a rack and tie that information back to the assigned orientation as well as the availible space. This can be expressed as an additional two constraints chips i can only be in position j if j has access to the orientation that it needs and that every vertical location only has one associated chip. This can be expressed as follows:"
   ]
  },
  {
   "cell_type": "markdown",
   "metadata": {},
   "source": [
    "$$\\sum_{i \\in n}x_{i,j} \\leq q_j \\quad \\forall j \\in \\{j..m\\}$$"
   ]
  },
  {
   "cell_type": "markdown",
   "metadata": {},
   "source": [
    "### Loss term for grouping"
   ]
  },
  {
   "cell_type": "markdown",
   "metadata": {},
   "source": [
    "There is a trade off between having a grouping of all chips of a certain type together since it makes it easier to locate them, but this may not lead to the optimal power distribution across all the power leads."
   ]
  },
  {
   "cell_type": "markdown",
   "metadata": {},
   "source": [
    "We can add a weighted loss term which is determined based on whether layout or power distribution is more important. This is accomplished by adding a to our objective function that discourages that chips of a given type have different orientations. We also need to add another term that encourages that the location of chips of the same type to be grouped in close proximity."
   ]
  },
  {
   "cell_type": "markdown",
   "metadata": {},
   "source": [
    "### PDU Placement"
   ]
  },
  {
   "cell_type": "markdown",
   "metadata": {},
   "source": [
    "- api to get all multidicts populated \n",
    "- connect opendci \n",
    "- include racks \n",
    "- get pdu placement info from saul and trevor"
   ]
  }
 ],
 "metadata": {
  "kernelspec": {
   "display_name": "Python 3",
   "language": "python",
   "name": "python3"
  },
  "language_info": {
   "codemirror_mode": {
    "name": "ipython",
    "version": 3
   },
   "file_extension": ".py",
   "mimetype": "text/x-python",
   "name": "python",
   "nbconvert_exporter": "python",
   "pygments_lexer": "ipython3",
   "version": "3.7.3"
  }
 },
 "nbformat": 4,
 "nbformat_minor": 2
}
